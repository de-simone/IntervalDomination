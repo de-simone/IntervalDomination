{
 "cells": [
  {
   "cell_type": "markdown",
   "metadata": {},
   "source": [
    "# Pick the closest number game\n",
    "Three players A, B, C play the following game. First, A picks a real number in $[0,1]$, then B picks a number in the same range (different from A’s choice) and finally C picks a number, also in the same range, (different from the two chosen numbers). We then pick a random number  $x\\in[0,1]$ with uniform distribution. Whoever’s number is closest to $x$ wins the game. Assume that A, B and C all play optimally and their sole goal is to maximise their chances of winning. Also assume that if one of them has several optimal choices, then that player will randomly pick one of the optimal choices.\n",
    "\n",
    "1. If A chooses 0, then what is the best choice for B?\n",
    "2. What is the best choice for A?\n",
    "3. Can you write a program to figure out the best choice for the first player when the game is played among four players?\n",
    "\n",
    "The questions above can be solved analytically, resulting into:\n",
    "\n",
    "1. $b=2/3$\n",
    "2. $a=1/4$, $a=3/4$\n",
    "3. $a=1/5$, $a=4/5$\n",
    "\n",
    "\n",
    "Below is a code to address numerically all of the questions above.\n",
    "\n",
    "The solution strategy of this sequential game is by **backward induction**."
   ]
  },
  {
   "cell_type": "code",
   "execution_count": 2,
   "metadata": {
    "collapsed": true
   },
   "outputs": [],
   "source": [
    "import numpy as np\n",
    "from fractions import Fraction"
   ]
  },
  {
   "cell_type": "markdown",
   "metadata": {
    "heading_collapsed": true
   },
   "source": [
    "## Functions"
   ]
  },
  {
   "cell_type": "code",
   "execution_count": 3,
   "metadata": {
    "collapsed": true,
    "hidden": true
   },
   "outputs": [],
   "source": [
    "def find_nearest_larger(value, array):\n",
    "    \"\"\"\n",
    "    Find entry in 'array' nearest to 'value' and larger than it\n",
    "    \"\"\"\n",
    "    array = np.asarray(array)    \n",
    "    array = array[np.where(array>value)] # select only larger entries\n",
    "    if array.size > 0:\n",
    "        idx = (np.abs(array - value)).argmin()\n",
    "        return( array[idx] )\n",
    "    else:\n",
    "        return(1)\n",
    "\n",
    "def find_nearest_smaller(value, array):\n",
    "    \"\"\"\n",
    "    Find entry in 'array' nearest to 'value' and smaller than it\n",
    "    \"\"\"\n",
    "    array = np.asarray(array)    \n",
    "    array = array[np.where(array<value)] # select only smaller entries\n",
    "    if array.size > 0:        \n",
    "        idx = (np.abs(array - value)).argmin()\n",
    "        return( array[idx] )\n",
    "    else:\n",
    "        return(0)\n",
    "\n",
    "    \n",
    "def compute_payoff(positions):\n",
    "    \"\"\"\n",
    "    Given the list of positions of all players, \n",
    "    compute payoff for each player and return it as a list\n",
    "    (in the same order as the input positions)\n",
    "    \"\"\"\n",
    "    \n",
    "    # make list if input is not a list\n",
    "    if not isinstance(positions, list):\n",
    "        positions = [positions]    \n",
    "    \n",
    "    result = []\n",
    "    xvalues = list(positions)\n",
    "    \n",
    "    if 0.0 not in xvalues:\n",
    "        xvalues.insert(0, 0.0) # insert 0.0 at beginning\n",
    "    if 1.0 not in xvalues:\n",
    "        xvalues.append(1.0)   # insert 1 at end\n",
    "\n",
    "    for x in positions:\n",
    "        x_larger  = find_nearest_larger(x, xvalues)\n",
    "        x_smaller = find_nearest_smaller(x, xvalues)        \n",
    "        \n",
    "        if( x_larger == 1.0 and 1.0 not in positions ):\n",
    "            payoff_larger = 1-x        \n",
    "        else:\n",
    "            payoff_larger = (x_larger - x)*0.5\n",
    "\n",
    "        if( x_smaller == 0.0 and 0.0 not in positions ):\n",
    "            payoff_smaller = x            \n",
    "        else:\n",
    "            payoff_smaller = (x-x_smaller)*0.5\n",
    "\n",
    "        payoff = payoff_larger + payoff_smaller        \n",
    "        result.append(payoff)\n",
    "    \n",
    "    return(result)\n",
    "\n",
    "def optimal_move(player, all_moves):\n",
    "    \"\"\"\n",
    "    Select best move (maximizing payoff) for player 'player' among all possible moves.\n",
    "    If more than one optimal moves are available, randomly pick one of them.\n",
    "    \"\"\"\n",
    "    if all_moves.size > 0:\n",
    "        best_move = all_moves[np.random.choice( np.argwhere(all_moves[:,1,player] \n",
    "                                               == all_moves[:,1,player].max()).flatten())]  \n",
    "        best_move = np.reshape(best_move,(1,all_moves.shape[1],all_moves.shape[2]))\n",
    "        return(best_move)\n",
    "    else:\n",
    "        return(None)"
   ]
  },
  {
   "cell_type": "markdown",
   "metadata": {
    "heading_collapsed": true
   },
   "source": [
    "## 1. Game with 3 players A,B,C and $a=0$"
   ]
  },
  {
   "cell_type": "code",
   "execution_count": 49,
   "metadata": {
    "hidden": true
   },
   "outputs": [],
   "source": [
    "# Discretize interval [0,1] with 1/N spacing\n",
    "N = 100\n",
    "space = np.array([float(Fraction(i, N)) for i in range(0, N+1)])"
   ]
  },
  {
   "cell_type": "code",
   "execution_count": 50,
   "metadata": {
    "collapsed": true,
    "hidden": true
   },
   "outputs": [],
   "source": [
    "def fill_payoff_matrix_3players_1fixed(space):\n",
    "    \"\"\"\n",
    "    Fill array [ [player_values], [player_payoffs] ]\n",
    "    with all payoffs associated to each player choice\n",
    "    space: discretized interval [0,1]\n",
    "    \"\"\"\n",
    "    players = [[a,b,c] \n",
    "            for a in np.array([0.0])    # fixed choice a = 0\n",
    "            for b in np.delete(space,np.where(space==a)) # avoid b=a\n",
    "            for c in np.delete(space,np.where(np.logical_or(space==a,space==b))) # avoid c=a,b\n",
    "          ]\n",
    "    payoffs = []\n",
    "    for p in players:\n",
    "        payoffs.append([p, compute_payoff(p)]) # [ [player_values], [player_payoffs] ]\n",
    "\n",
    "    payoffs = np.array(payoffs)\n",
    "    return(payoffs)"
   ]
  },
  {
   "cell_type": "code",
   "execution_count": 51,
   "metadata": {
    "collapsed": true,
    "hidden": true
   },
   "outputs": [],
   "source": [
    "payoffs = fill_payoff_matrix_3players_1fixed(space)"
   ]
  },
  {
   "cell_type": "code",
   "execution_count": 53,
   "metadata": {
    "hidden": true
   },
   "outputs": [
    {
     "name": "stdout",
     "output_type": "stream",
     "text": [
      "Optimal positions (a=0 fixed):\n",
      "   player A = 0.000    (probability = 0.035)\n",
      "   player B = 0.670    (probability = 0.630)\n",
      "   player C = 0.070    (probability = 0.335)\n"
     ]
    }
   ],
   "source": [
    "nplayers = payoffs.shape[-1] # 2\n",
    "\n",
    "player=1\n",
    "\n",
    "# Best C moves\n",
    "selected_moves_c = np.zeros((0,2,nplayers)) # initialize selected nodes for C\n",
    "\n",
    "for bb in space:\n",
    "    position = payoffs[np.where(payoffs[:,0,player]==bb)]\n",
    "    best_move = optimal_move(player+1, position)\n",
    "    if best_move is not None:        \n",
    "        selected_moves_c = np.append( selected_moves_c, best_move, axis=0 )\n",
    "\n",
    "print(\"Optimal positions (a=0 fixed):\")\n",
    "\n",
    "# Best B move\n",
    "for p in range(nplayers):\n",
    "    print(\"   player {:s} = {:.3f}    (probability = {:.3f})\".format(\n",
    "        chr(p+ord('A')),        \n",
    "        selected_moves_c[selected_moves_c[:,1,player].argmax()][0, p], \n",
    "        selected_moves_c[selected_moves_c[:,1,player].argmax()][1, p]) )"
   ]
  },
  {
   "cell_type": "markdown",
   "metadata": {
    "heading_collapsed": true
   },
   "source": [
    "## 2. Game with 3 players A,B,C and $a\\neq 0$"
   ]
  },
  {
   "cell_type": "code",
   "execution_count": 54,
   "metadata": {
    "hidden": true
   },
   "outputs": [],
   "source": [
    "# Discretize interval [0,1] with 1/N spacing\n",
    "N = 100\n",
    "space = np.array([float(Fraction(i, N)) for i in range(0, N+1)])"
   ]
  },
  {
   "cell_type": "code",
   "execution_count": 55,
   "metadata": {
    "collapsed": true,
    "hidden": true
   },
   "outputs": [],
   "source": [
    "def fill_payoff_matrix_3players(space):\n",
    "    \"\"\"\n",
    "    Fill array [ [player_values], [player_payoffs] ]\n",
    "    with all payoffs associated to each player choice\n",
    "    space: discretized interval [0,1]\n",
    "    \"\"\"    \n",
    "    players = [[a,b,c] \n",
    "                for a in space[np.where(space<=0.5)] # a in [0,0.5] (by symmetry)\n",
    "                for b in np.delete(space,np.where(space==a)) # avoid b=a\n",
    "                for c in np.delete(space,np.where(np.logical_or(space==a,space==b))) # avoid c=a,b\n",
    "              ]\n",
    "    \n",
    "    payoffs = []\n",
    "    for p in players:\n",
    "        payoffs.append([p, compute_payoff(p)]) # [ [player_values], [player_payoffs] ]\n",
    "\n",
    "    payoffs = np.array(payoffs)\n",
    "    return(payoffs)"
   ]
  },
  {
   "cell_type": "code",
   "execution_count": 56,
   "metadata": {
    "hidden": true
   },
   "outputs": [],
   "source": [
    "payoffs = fill_payoff_matrix_3players(space)"
   ]
  },
  {
   "cell_type": "code",
   "execution_count": 57,
   "metadata": {
    "hidden": true,
    "scrolled": true
   },
   "outputs": [
    {
     "name": "stdout",
     "output_type": "stream",
     "text": [
      "Optimal positions:\n",
      "   player A = 0.230    (probability = 0.295)\n",
      "   player B = 0.740    (probability = 0.450)\n",
      "   player C = 0.360    (probability = 0.255)\n"
     ]
    }
   ],
   "source": [
    "nplayers = payoffs.shape[-1] # 3\n",
    "\n",
    "player = 0 # 0=A, 1=B, 2=C\n",
    "\n",
    "# Best C moves\n",
    "selected_moves_c = np.zeros((0,2,nplayers)) # initialize selected nodes for C\n",
    "for aa in space:\n",
    "    for bb in space:\n",
    "        position = payoffs[np.where(np.logical_and(payoffs[:,0,player]==aa,\n",
    "                                                   payoffs[:,0,player+1]==bb))]\n",
    "        best_move = optimal_move(player+2, position)\n",
    "        if best_move is not None:\n",
    "            selected_moves_c = np.append( selected_moves_c, best_move, axis=0 )\n",
    "\n",
    "# Best B moves\n",
    "selected_moves_b = np.zeros((0,2,nplayers)) # initialize selected nodes for B\n",
    "for aa in space:\n",
    "    position = selected_moves_c[np.where(selected_moves_c[:,0,player]==aa)]\n",
    "    best_move = optimal_move(player+1, position)\n",
    "    if best_move is not None:\n",
    "        selected_moves_b = np.append( selected_moves_b, best_move, axis=0 )\n",
    "\n",
    "print(\"Optimal positions:\")\n",
    "\n",
    "# Best A moves\n",
    "for p in range(nplayers):\n",
    "    print(\"   player {:s} = {:.3f}    (probability = {:.3f})\".format(\n",
    "        chr(p+ord('A')),        \n",
    "        selected_moves_b[selected_moves_b[:,1,player].argmax()][0, p], \n",
    "        selected_moves_b[selected_moves_b[:,1,player].argmax()][1, p]) )"
   ]
  },
  {
   "cell_type": "markdown",
   "metadata": {
    "heading_collapsed": true
   },
   "source": [
    "## 3. Game with 4 players A,B,C,D "
   ]
  },
  {
   "cell_type": "code",
   "execution_count": 42,
   "metadata": {
    "hidden": true
   },
   "outputs": [],
   "source": [
    "# Discretize interval [0,1] with 1/N spacing\n",
    "N = 40\n",
    "space = np.array([float(Fraction(i, N)) for i in range(0, N+1)])"
   ]
  },
  {
   "cell_type": "code",
   "execution_count": 44,
   "metadata": {
    "hidden": true
   },
   "outputs": [],
   "source": [
    "def fill_payoff_matrix_4players(space):\n",
    "    \"\"\"\n",
    "    Fill array [ [player_values], [player_payoffs] ]\n",
    "    with all payoffs associated to each player choice\n",
    "    space: discretized interval [0,1]\n",
    "    \"\"\"    \n",
    "    players = [[a,b,c,d] \n",
    "            for a in space[np.where(space<=0.5)] # a in [0,0.5] (by symmetry)\n",
    "            for b in np.delete(space,np.where(space==a)) # avoid b=a\n",
    "            for c in np.delete(space,np.where(np.logical_or(space==a,\n",
    "                                                            space==b))) # avoid c=a,b\n",
    "            for d in np.delete(space,np.where(np.logical_or(space==a,\n",
    "                                                            np.logical_or(space==b,\n",
    "                                                                          space==c)))) # avoid d=a,b,c\n",
    "          ]\n",
    "    payoffs = []\n",
    "    for p in players:\n",
    "        payoffs.append([p, compute_payoff(p)]) # [ [player_values], [player_payoffs] ]\n",
    "\n",
    "    payoffs = np.array(payoffs)\n",
    "    return(payoffs)"
   ]
  },
  {
   "cell_type": "code",
   "execution_count": 45,
   "metadata": {
    "collapsed": true,
    "hidden": true
   },
   "outputs": [],
   "source": [
    "payoffs = fill_payoff_matrix_4players(space)"
   ]
  },
  {
   "cell_type": "code",
   "execution_count": 46,
   "metadata": {
    "hidden": true,
    "scrolled": true
   },
   "outputs": [
    {
     "name": "stdout",
     "output_type": "stream",
     "text": [
      "Optimal positions:\n",
      "   player A = 0.17    (probability = 0.20)\n",
      "   player B = 0.82    (probability = 0.31)\n",
      "   player C = 0.85    (probability = 0.16)\n",
      "   player D = 0.23    (probability = 0.33)\n"
     ]
    }
   ],
   "source": [
    "nplayers = payoffs.shape[-1] # 4\n",
    "\n",
    "player = 0 \n",
    "\n",
    "# Best D moves\n",
    "selected_moves_d = np.zeros((0,2,nplayers)) # initialize selected nodes for D\n",
    "for aa in space:\n",
    "    for bb in space:\n",
    "        for cc in space:\n",
    "            position = payoffs[np.where(np.logical_and(payoffs[:,0,player]==aa,\n",
    "                                                       payoffs[:,0,player+1]==bb, \n",
    "                                                       payoffs[:,0,player+2]==cc))]            \n",
    "            best_move = optimal_move(player+3, position)\n",
    "            if best_move is not None:\n",
    "                selected_moves_d = np.append( selected_moves_d, best_move, axis=0 )\n",
    "            \n",
    "# Best C moves\n",
    "selected_moves_c = np.zeros((0,2,nplayers)) # initialize selected nodes for C\n",
    "for aa in space:\n",
    "    for bb in space:\n",
    "        position = selected_moves_d[np.where(np.logical_and(\n",
    "                                                        selected_moves_d[:,0,player]==aa,\n",
    "                                                        selected_moves_d[:,0,player+1]==bb))]\n",
    "        best_move = optimal_move(player+2, position)\n",
    "        if best_move is not None:\n",
    "            selected_moves_c = np.append( selected_moves_c, best_move, axis=0 )\n",
    "\n",
    "# Best B moves\n",
    "selected_moves_b = np.zeros((0,2,nplayers)) # initialize selected nodes for B\n",
    "for aa in space:\n",
    "    position = selected_moves_c[np.where(selected_moves_c[:,0,player]==aa)]\n",
    "    best_move = optimal_move(player+1, position)\n",
    "    if best_move is not None:\n",
    "        selected_moves_b = np.append( selected_moves_b, best_move, axis=0 )\n",
    "\n",
    "print(\"Optimal positions:\")\n",
    "\n",
    "# Best A moves\n",
    "for p in range(nplayers):\n",
    "    print(\"   player {:s} = {:.3f}    (probability = {:.3f})\".format(\n",
    "        chr(p+ord('A')),        \n",
    "        selected_moves_b[selected_moves_b[:,1,player].argmax()][0, p], \n",
    "        selected_moves_b[selected_moves_b[:,1,player].argmax()][1, p]) )"
   ]
  },
  {
   "cell_type": "code",
   "execution_count": 47,
   "metadata": {
    "hidden": true
   },
   "outputs": [
    {
     "name": "stdout",
     "output_type": "stream",
     "text": [
      "   player A = 0.175    (probability = 0.200)\n",
      "   player B = 0.825    (probability = 0.312)\n",
      "   player C = 0.850    (probability = 0.163)\n",
      "   player D = 0.225    (probability = 0.325)\n"
     ]
    }
   ],
   "source": [
    "for p in range(nplayers):\n",
    "    print(\"   player {:s} = {:.3f}    (probability = {:.3f})\".format(\n",
    "        chr(p+ord('A')),        \n",
    "        selected_moves_b[selected_moves_b[:,1,player].argmax()][0, p], \n",
    "        selected_moves_b[selected_moves_b[:,1,player].argmax()][1, p]) )"
   ]
  },
  {
   "cell_type": "code",
   "execution_count": null,
   "metadata": {
    "collapsed": true,
    "hidden": true
   },
   "outputs": [],
   "source": []
  }
 ],
 "metadata": {
  "kernelspec": {
   "display_name": "Python 3",
   "language": "python",
   "name": "python3"
  },
  "language_info": {
   "codemirror_mode": {
    "name": "ipython",
    "version": 3
   },
   "file_extension": ".py",
   "mimetype": "text/x-python",
   "name": "python",
   "nbconvert_exporter": "python",
   "pygments_lexer": "ipython3",
   "version": "3.6.6"
  },
  "toc": {
   "base_numbering": 1,
   "nav_menu": {},
   "number_sections": false,
   "sideBar": true,
   "skip_h1_title": false,
   "title_cell": "Table of Contents",
   "title_sidebar": "Contents",
   "toc_cell": false,
   "toc_position": {
    "height": "calc(100% - 180px)",
    "left": "10px",
    "top": "150px",
    "width": "165px"
   },
   "toc_section_display": true,
   "toc_window_display": true
  }
 },
 "nbformat": 4,
 "nbformat_minor": 2
}
